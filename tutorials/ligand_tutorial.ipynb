{
 "cells": [
  {
   "cell_type": "markdown",
   "metadata": {},
   "source": [
    "----------\n",
    "# Introduction\n",
    "__________\n",
    "\n",
    "In this tutorial we will use pmx and Gromacs to set up alchemical free energy calculations for a relative free energy calculation study. We will further perform the simulations and estimate the actual ddG value.\n",
    "\n",
    "The protein and ligand topologies for this case have already been generated and described in the study:<br>\n",
    "*Gapsys, Perez-Benito et al. Large scale relative protein ligand binding affinities using non-equilibrium alchemy.  2020. Chemical Science<br>\n",
    "https://pubs.rsc.org/en/content/articlelanding/2020/SC/C9SC03754C* <br>\n",
    "All the input/output files from this work can be found on the pmx github page:<br>\n",
    "*https://github.com/deGrootLab/pmx/tree/master/protLig_benchmark*\n",
    "\n",
    "In the tutorial, we will use a pair of ligands binding to the JNK1 kinase and estimate the relative free energy difference $\\Delta\\Delta G$ between these molecules. For that, the following thermodynamic cycle will be used:\n",
    "\n",
    "FIGURE: thermodynamic cycle\n",
    "\n",
    "\n",
    "------------------\n",
    "# Method\n",
    "------------------\n",
    "methodology of noneq \n",
    "\n",
    "---------------\n",
    "Workflow\n",
    "-----------------\n",
    "The overall workflow consists of the following steps:<br>\n",
    "0. Initialize the working environment\n",
    "1. Prepare hybrid structures/topologies\n",
    "2. Prepare equilibrium simulations\n",
    "3. Prepare non-equilibrium transitions\n",
    "4. Analysis"
   ]
  },
  {
   "cell_type": "markdown",
   "metadata": {},
   "source": [
    "----------------\n",
    "Step 0. Initialize working environment\n",
    "-----------------\n",
    "\n",
    "Here, we will define the paths to the protein and ligand topologies, as well as to the molecular dynamics parameter files (.mdp).\n",
    "\n",
    "We will also set some main parameters: water model, salt concentration, number of simulation replicas to use."
   ]
  },
  {
   "cell_type": "code",
   "execution_count": 5,
   "metadata": {},
   "outputs": [
    {
     "name": "stdout",
     "output_type": "stream",
     "text": [
      "Populating the interactive namespace from numpy and matplotlib\n"
     ]
    },
    {
     "name": "stderr",
     "output_type": "stream",
     "text": [
      "/home/vgapsys/anaconda2/envs/AZtutorial/lib/python3.7/site-packages/IPython/core/magics/pylab.py:160: UserWarning: pylab import has clobbered these variables: ['random']\n",
      "`%matplotlib` prevents importing * from pylab and numpy\n",
      "  \"\\n`%matplotlib` prevents importing * from pylab and numpy\"\n"
     ]
    }
   ],
   "source": [
    "import pmx\n",
    "from pmx.utils import create_folder\n",
    "from pmx import gmx, ligand_alchemy, jobscript\n",
    "import sys\n",
    "import matplotlib.pyplot as plt\n",
    "import numpy as np\n",
    "%matplotlib inline \n",
    "%pylab inline\n",
    "from IPython.core.display import clear_output\n",
    "import os,shutil\n",
    "import re\n",
    "import subprocess\n",
    "import glob\n",
    "import random\n",
    "from AZtutorial import *"
   ]
  },
  {
   "cell_type": "code",
   "execution_count": 6,
   "metadata": {
    "scrolled": true
   },
   "outputs": [
    {
     "name": "stdout",
     "output_type": "stream",
     "text": [
      "edge_18625-1_18626-1\n",
      "\n",
      "---------------------\n",
      "Summary of the setup:\n",
      "---------------------\n",
      "\n",
      "   workpath: /home/vgapsys/project/make_hybrid/AZtutorial/workpath\n",
      "   mdp path: /home/vgapsys/project/make_hybrid/AZtutorial/input/mdppath\n",
      "   protein files: /home/vgapsys/project/make_hybrid/AZtutorial/input/protein_amber\n",
      "   ligand files: /home/vgapsys/project/make_hybrid/AZtutorial/input/ligands\n",
      "   number of replicase: 3\n",
      "   edges:\n",
      "        edge_18625-1_18626-1\n",
      "\n",
      "---------------------\n",
      "Directory structure:\n",
      "---------------------\n",
      "\n",
      "/home/vgapsys/project/make_hybrid/AZtutorial/workpath/\n",
      "|\n",
      "|--edge_X_Y\n",
      "|--|--water\n",
      "|--|--|--stateA\n",
      "|--|--|--|--run1/2/3\n",
      "|--|--|--|--|--em/eq_posre/eq/transitions\n",
      "|--|--|--stateB\n",
      "|--|--|--|--run1/2/3\n",
      "|--|--|--|--|--em/eq_posre/eq/transitions\n",
      "|--|--protein\n",
      "|--|--|--stateA\n",
      "|--|--|--|--run1/2/3\n",
      "|--|--|--|--|--em/eq_posre/eq/transitions\n",
      "|--|--|--stateB\n",
      "|--|--|--|--run1/2/3\n",
      "|--|--|--|--|--em/eq_posre/eq/transitions\n",
      "|--|--hybridStrTop\n",
      "|--edge_..\n",
      "DONE\n"
     ]
    }
   ],
   "source": [
    "# initialize the free energy environment object: it will store the main parameters for the calculations\n",
    "fe = AZtutorial( )\n",
    "\n",
    "# set the workpath\n",
    "fe.workPath = 'workpath'\n",
    "# set the path to the molecular dynamics parameter files\n",
    "fe.mdpPath = 'input/mdppath'\n",
    "# set the number of replicas (several repetitions of calculation are useful to obtain reliable statistics)\n",
    "fe.replicas = 3\n",
    "# provide the path to the protein structure and topology\n",
    "fe.proteinPath = 'input/protein_amber'\n",
    "# provide the path to the folder with ligand structures and topologies\n",
    "fe.ligandPath = 'input/ligands'\n",
    "# provide edges\n",
    "fe.edges = [ ['18625-1','18626-1'] ]\n",
    "\n",
    "# finally, let's prepare the overall free energy calculation directory structure\n",
    "fe.prepareFreeEnergyDir( )"
   ]
  },
  {
   "cell_type": "markdown",
   "metadata": {},
   "source": [
    "`1a. Firstly, let's create a hybrid structure/topology for the two ligands forming an edge.\n",
    "For that we will establish a mapping of atoms to be morphed between the molecules.`"
   ]
  },
  {
   "cell_type": "code",
   "execution_count": 394,
   "metadata": {
    "scrolled": true
   },
   "outputs": [
    {
     "name": "stdout",
     "output_type": "stream",
     "text": [
      "-----------------------\n",
      "Performing atom mapping\n",
      "-----------------------\n",
      "edge_18625-1_18626-1\n",
      "DONE\n"
     ]
    }
   ],
   "source": [
    "# this command will map the atoms of all edges found in the 'fe' object\n",
    "# bVerbose flag prints the output of the command\n",
    "fe.atom_mapping(bVerbose=False)"
   ]
  },
  {
   "cell_type": "markdown",
   "metadata": {},
   "source": [
    "`1b. Secondly, we will construct a hybrid structure and topology based on the established mapping`"
   ]
  },
  {
   "cell_type": "code",
   "execution_count": 395,
   "metadata": {
    "scrolled": true
   },
   "outputs": [
    {
     "name": "stdout",
     "output_type": "stream",
     "text": [
      "----------------------------------\n",
      "Creating hybrid structure/topology\n",
      "----------------------------------\n",
      "edge_18625-1_18626-1\n",
      "DONE\n"
     ]
    }
   ],
   "source": [
    "fe.hybrid_structure_topology(bVerbose=False)"
   ]
  },
  {
   "cell_type": "markdown",
   "metadata": {},
   "source": [
    "`1c. Finally, we assemble the ligand and ligand+protein systems, i.e. create structures and topologies that will be used further in the step 2.`"
   ]
  },
  {
   "cell_type": "code",
   "execution_count": 396,
   "metadata": {},
   "outputs": [
    {
     "name": "stdout",
     "output_type": "stream",
     "text": [
      "----------------------\n",
      "Assembling the systems\n",
      "----------------------\n",
      "edge_18625-1_18626-1\n",
      "DONE\n"
     ]
    }
   ],
   "source": [
    "fe.assemble_systems( )"
   ]
  },
  {
   "cell_type": "markdown",
   "metadata": {},
   "source": [
    "------------------\n",
    "Step 2. Prepare equilibrium simulations.\n",
    "---------------------\n",
    "Prepare simulation boxes with solvent and ions.\n",
    "Subsequently energy minimize the systems, prepare equilibrium simulations and start the runs."
   ]
  },
  {
   "cell_type": "markdown",
   "metadata": {},
   "source": [
    "`2a.` Build boxes, solvate, add ions"
   ]
  },
  {
   "cell_type": "code",
   "execution_count": 397,
   "metadata": {},
   "outputs": [
    {
     "name": "stdout",
     "output_type": "stream",
     "text": [
      "----------------\n",
      "Box, water, ions\n",
      "----------------\n",
      "edge_18625-1_18626-1\n",
      "DONE\n"
     ]
    }
   ],
   "source": [
    "fe.boxWaterIons( )"
   ]
  },
  {
   "cell_type": "markdown",
   "metadata": {},
   "source": [
    "`2b.` Energy minimization.<br>\n",
    "Prepare the simulation and subsequently either<br>\n",
    " a) run locally (suitable for the tutorial purpose)<br>\n",
    " b) create jobscripts to submit to the cluster"
   ]
  },
  {
   "cell_type": "code",
   "execution_count": 404,
   "metadata": {},
   "outputs": [
    {
     "name": "stdout",
     "output_type": "stream",
     "text": [
      "-----------------------------------------\n",
      "Preparing simulation: em\n",
      "-----------------------------------------\n",
      "edge_18625-1_18626-1\n",
      "DONE\n"
     ]
    }
   ],
   "source": [
    "fe.prepare_simulation( simType='em' )"
   ]
  },
  {
   "cell_type": "markdown",
   "metadata": {},
   "source": [
    "Running energy minimization locally (e.g. on a laptop) will take 10-15 minutes for one edge.<br>\n",
    "You can use the command below for that.\n",
    "If you do not want to wait that long and have an access to a cluster, skip this step and proceed to the next step."
   ]
  },
  {
   "cell_type": "code",
   "execution_count": 267,
   "metadata": {},
   "outputs": [],
   "source": [
    "fe.run_simulation_locally( simType='em', bProt=False, bVerbose=True )"
   ]
  },
  {
   "cell_type": "markdown",
   "metadata": {},
   "source": [
    "We can also submit the jobs to run on the cluster.<br>\n",
    "This, naturally, requires some knowledge of the cluster available, queueing system and some dependencies. Several jobscript parameters allow to define the environment on the cluster. If there are additional cluster specifics, the jobscripts can be easily modified.<br>\n",
    "\n",
    "Together with the jobscripts, a script `submit.py` will be generated. This script can be used to simply submit all the jobs to the cluster."
   ]
  },
  {
   "cell_type": "code",
   "execution_count": 415,
   "metadata": {},
   "outputs": [
    {
     "name": "stdout",
     "output_type": "stream",
     "text": [
      "---------------------------------------------\n",
      "Preparing jobscripts for: em\n",
      "---------------------------------------------\n"
     ]
    }
   ],
   "source": [
    "# set several parameters\n",
    "fe.JOBqueue = 'SGE'\n",
    "fe.JOBsource = ['/etc/profile.d/modules.sh','/usr/local/gromacs/GMXRC2018']\n",
    "fe.JOBmodules = ['shared','owl/intel-mpi-default','cuda91']\n",
    "fe.JOBgpu = True\n",
    "fe.JOBgmx = 'mdrun_threads'\n",
    "\n",
    "# create the jobscripts\n",
    "fe.prepare_jobscripts(simType='em')"
   ]
  },
  {
   "cell_type": "markdown",
   "metadata": {},
   "source": [
    "`2c.` Once the energy minimization has finished, we can prepare equilibrium simulations."
   ]
  },
  {
   "cell_type": "code",
   "execution_count": 413,
   "metadata": {},
   "outputs": [
    {
     "name": "stdout",
     "output_type": "stream",
     "text": [
      "-----------------------------------------\n",
      "Preparing simulation: eq\n",
      "-----------------------------------------\n",
      "edge_18625-1_18626-1\n",
      "DONE\n"
     ]
    }
   ],
   "source": [
    "fe.prepare_simulation( simType='eq' )"
   ]
  },
  {
   "cell_type": "markdown",
   "metadata": {},
   "source": [
    "Again, prepare and submit the equilibrium simulation jobs to the cluster.<br>\n",
    "This time the calculation will take longer (we are performing 6 ns simulations).<br>\n",
    "On a node with a GPU and 8 CPUs simulations of ligand in water will take ~2 hours, ligand-protein complex will take ~10 hours."
   ]
  },
  {
   "cell_type": "code",
   "execution_count": 423,
   "metadata": {},
   "outputs": [
    {
     "name": "stdout",
     "output_type": "stream",
     "text": [
      "---------------------------------------------\n",
      "Preparing jobscripts for: eq\n",
      "---------------------------------------------\n"
     ]
    }
   ],
   "source": [
    "fe.prepare_jobscripts(simType='eq')"
   ]
  },
  {
   "cell_type": "markdown",
   "metadata": {},
   "source": [
    "--------------\n",
    "Step 3. Prepare non-equilibrium transitions\n",
    "---------------\n",
    "At this point we already have the trajectories for equilibrium ensembles of two ligand states in water and in complex with the protein.<br>\n",
    "\n",
    "`3a.` From these simulations we will extract the snapshots and initiate rapid transitions from one state to the other."
   ]
  },
  {
   "cell_type": "code",
   "execution_count": null,
   "metadata": {},
   "outputs": [],
   "source": [
    "fe.prepare_transitions( bGenTpr=True )"
   ]
  },
  {
   "cell_type": "markdown",
   "metadata": {},
   "source": [
    "`3b.` Prepare submission scripts for transitions.<br>\n",
    "Each transition is very short (50 ps), therefore, we can reduce the number of required CPUs and flood our cluster with many small jobs."
   ]
  },
  {
   "cell_type": "code",
   "execution_count": 40,
   "metadata": {},
   "outputs": [
    {
     "name": "stdout",
     "output_type": "stream",
     "text": [
      "---------------------------------------------\n",
      "Preparing jobscripts for: transitions\n",
      "---------------------------------------------\n",
      "DONE\n"
     ]
    }
   ],
   "source": [
    "fe.JOBsimcpu = 2\n",
    "fe.JOBqueue = 'SGE'\n",
    "fe.JOBsource = ['/etc/profile.d/modules.sh','/usr/local/gromacs/GMXRC2018']\n",
    "fe.JOBmodules = ['shared','owl/intel-mpi-default','cuda91']\n",
    "fe.JOBgpu = True\n",
    "fe.JOBgmx = 'mdrun_threads'\n",
    "\n",
    "fe.prepare_jobscripts(simType='transitions', bLig=False)"
   ]
  },
  {
   "cell_type": "markdown",
   "metadata": {},
   "source": [
    "----------------\n",
    "Step 4. Analysis\n",
    "------------------"
   ]
  },
  {
   "cell_type": "markdown",
   "metadata": {},
   "source": [
    "`4a.` Firstly, let's process the calculated work values and estimate free energy differences.<br>\n",
    "The `pmx analyse` program will integrate the dhdl.xvg files to obtain the forward and reverse work values.<br>\n",
    "Subsequently, the Crooks fluctuation theorem and Jarzynski estimators will be applied to relate the work distributions to $\\Delta G$"
   ]
  },
  {
   "cell_type": "code",
   "execution_count": null,
   "metadata": {},
   "outputs": [],
   "source": [
    "fe.run_analysis( bVerbose=True)"
   ]
  },
  {
   "cell_type": "markdown",
   "metadata": {},
   "source": [
    "`4b.` Finally, we can collect all the results into one data structure and investigate the outcome.<br>\n",
    "Here, we read the $\\Delta G$ values and calculate $\\Delta\\Delta G$.<br>\n",
    "The calculated error reflects the statistical uncertainty and the variation between multiple calculation repeats."
   ]
  },
  {
   "cell_type": "code",
   "execution_count": null,
   "metadata": {},
   "outputs": [],
   "source": []
  },
  {
   "cell_type": "code",
   "execution_count": null,
   "metadata": {},
   "outputs": [],
   "source": []
  },
  {
   "cell_type": "code",
   "execution_count": null,
   "metadata": {},
   "outputs": [],
   "source": []
  },
  {
   "cell_type": "code",
   "execution_count": null,
   "metadata": {},
   "outputs": [],
   "source": []
  }
 ],
 "metadata": {
  "kernelspec": {
   "display_name": "Python 3",
   "language": "python",
   "name": "python3"
  },
  "language_info": {
   "codemirror_mode": {
    "name": "ipython",
    "version": 3
   },
   "file_extension": ".py",
   "mimetype": "text/x-python",
   "name": "python",
   "nbconvert_exporter": "python",
   "pygments_lexer": "ipython3",
   "version": "3.7.1"
  }
 },
 "nbformat": 4,
 "nbformat_minor": 2
}
