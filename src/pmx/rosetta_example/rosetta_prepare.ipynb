{
 "cells": [
  {
   "cell_type": "code",
   "execution_count": 1,
   "metadata": {},
   "outputs": [
    {
     "name": "stdout",
     "output_type": "stream",
     "text": [
      "Populating the interactive namespace from numpy and matplotlib\n"
     ]
    },
    {
     "name": "stderr",
     "output_type": "stream",
     "text": [
      "/home/vgapsys/anaconda2/envs/python3.7/lib/python3.7/site-packages/IPython/core/magics/pylab.py:160: UserWarning: pylab import has clobbered these variables: ['rc']\n",
      "`%matplotlib` prevents importing * from pylab and numpy\n",
      "  \"\\n`%matplotlib` prevents importing * from pylab and numpy\"\n"
     ]
    }
   ],
   "source": [
    "import sys,os\n",
    "import matplotlib.pyplot as plt\n",
    "import numpy as np\n",
    "import matplotlib.gridspec as gridspec\n",
    "import matplotlib.patches as mpatches\n",
    "import matplotlib.lines as mlines\n",
    "from scipy import stats\n",
    "import scipy.special\n",
    "from matplotlib import rc, rcParams\n",
    "import math\n",
    "from scipy.integrate import simps\n",
    "import copy as cp\n",
    "%matplotlib inline \n",
    "%pylab inline\n",
    "import pmx\n",
    "from pmx import rosetta\n",
    "from pmx.utils import create_folder\n",
    "from pmx import library"
   ]
  },
  {
   "cell_type": "markdown",
   "metadata": {},
   "source": [
    "need to set environmental variable PMXROSETTA  \n",
    "\n",
    "export PMXROSETTA=/path_to_rosetta/rosetta_src_2017.39.59729_bundle/main/source/bin"
   ]
  },
  {
   "cell_type": "markdown",
   "metadata": {},
   "source": [
    "-------------------\n",
    "6m0j\n",
    "-------------------"
   ]
  },
  {
   "cell_type": "code",
   "execution_count": 2,
   "metadata": {},
   "outputs": [],
   "source": [
    "###### variables, parameters #######\n",
    "\n",
    "workfolder = './rosetta_flex_ddg'\n",
    "create_folder(workfolder)\n",
    "\n",
    "protFile = './prot_zn.pdb'\n",
    "mutFile = './mut.dat'\n",
    "pmlFile = 'pml.pml'\n",
    "\n",
    "refchain = 'E' # chain with respect to which the interface will be identified"
   ]
  },
  {
   "cell_type": "markdown",
   "metadata": {},
   "source": [
    "-------\n",
    "Step1: mutations entered manually from doi.org/10.1101/2020.03.15.991844\n",
    "--------"
   ]
  },
  {
   "cell_type": "markdown",
   "metadata": {},
   "source": [
    "-------------\n",
    "Step2: create rosetta mutation input\n",
    "-------------"
   ]
  },
  {
   "cell_type": "code",
   "execution_count": 3,
   "metadata": {},
   "outputs": [
    {
     "data": {
      "text/plain": [
       "<pmx.rosetta.FlexDDG at 0x2afa67f46ac8>"
      ]
     },
     "execution_count": 3,
     "metadata": {},
     "output_type": "execute_result"
    }
   ],
   "source": [
    "\n",
    "rosetta.FlexDDG(protFile=protFile,mutFile=mutFile, basepath=workfolder+'/mutations',\n",
    "                chainsToMove=refchain,\n",
    "                max_cpus=8,\n",
    "                clusterModulesToLoad=['shared','owl/intel-mpi-default'],\n",
    "                clusterFilesToSource=['/etc/profile.d/modules.sh'])\n"
   ]
  },
  {
   "cell_type": "code",
   "execution_count": 8,
   "metadata": {},
   "outputs": [
    {
     "data": {
      "text/plain": [
       "['/home/vgapsys/anaconda2/envs/python3.7/lib/python3.7/site-packages/pmx']"
      ]
     },
     "execution_count": 8,
     "metadata": {},
     "output_type": "execute_result"
    }
   ],
   "source": [
    "pmx.__path__"
   ]
  },
  {
   "cell_type": "code",
   "execution_count": null,
   "metadata": {},
   "outputs": [],
   "source": []
  }
 ],
 "metadata": {
  "kernelspec": {
   "display_name": "Python 3",
   "language": "python",
   "name": "python3"
  },
  "language_info": {
   "codemirror_mode": {
    "name": "ipython",
    "version": 3
   },
   "file_extension": ".py",
   "mimetype": "text/x-python",
   "name": "python",
   "nbconvert_exporter": "python",
   "pygments_lexer": "ipython3",
   "version": "3.7.3"
  }
 },
 "nbformat": 4,
 "nbformat_minor": 2
}
