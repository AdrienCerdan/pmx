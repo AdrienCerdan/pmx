{
 "cells": [
  {
   "cell_type": "code",
   "execution_count": 1,
   "metadata": {},
   "outputs": [
    {
     "name": "stdout",
     "output_type": "stream",
     "text": [
      "Populating the interactive namespace from numpy and matplotlib\n",
      "RDKit imports failed\n"
     ]
    }
   ],
   "source": [
    "import sys\n",
    "import matplotlib.pyplot as plt\n",
    "import numpy as np\n",
    "%matplotlib inline \n",
    "%pylab inline\n",
    "from IPython.core.display import clear_output\n",
    "import os,shutil\n",
    "import re\n",
    "import copy as cp\n",
    "from scipy import stats\n",
    "import subprocess\n",
    "import glob\n",
    "import pmx\n",
    "from pmx.AbsoluteDG import *"
   ]
  },
  {
   "cell_type": "code",
   "execution_count": 2,
   "metadata": {},
   "outputs": [],
   "source": [
    "#!jt -t chesterish"
   ]
  },
  {
   "cell_type": "markdown",
   "metadata": {},
   "source": [
    "------------------------------\n",
    "Perform absolute binding free energy calculations\n",
    "-----------------------------------\n",
    "\n",
    "1. setup folder structure: water and complex\n",
    "2. prepare simulation setup\n",
    "3. run simulations: em, posre, eq, ti"
   ]
  },
  {
   "cell_type": "markdown",
   "metadata": {},
   "source": [
    "-----------------\n",
    "Lysozyme\n",
    "-----------------"
   ]
  },
  {
   "cell_type": "code",
   "execution_count": 3,
   "metadata": {
    "scrolled": false
   },
   "outputs": [
    {
     "name": "stdout",
     "output_type": "stream",
     "text": [
      "\n",
      "---------------------\n",
      "Summary of the setup:\n",
      "---------------------\n",
      "\n",
      "   workpath: /home/vgapsys/project/pymacs/github_degrootlab/pmx/src/pmx/abfe_scripts/lysopath\n",
      "   mdp path: /home/vgapsys/project/pymacs/github_degrootlab/pmx/src/pmx/abfe_scripts/mdppath\n",
      "   # ligands: 1\n",
      "   ligands:\n",
      "        lysozyme_benzene\n",
      "   apo state: lysozyme_apo\n",
      "\n",
      "---------------------\n",
      "Directory structure:\n",
      "---------------------\n",
      "\n",
      "/home/vgapsys/project/pymacs/github_degrootlab/pmx/src/pmx/abfe_scripts/lysopath/\n",
      "|\n",
      "|--ligX\n",
      "|--|--dssb\n",
      "|--|--|--stateA\n",
      "|--|--|--|--run1/2/3\n",
      "|--|--|--|--|--/em_posre/eq_posre/eq/transitions\n",
      "|--|--|--stateB\n",
      "|--|--|--|--run1/2/3\n",
      "|--|--|--|--|--/em_posre/eq_posre/eq/transitions\n",
      "|--|--strTopFolder\n",
      "|--lig..\n",
      "\n",
      "DONE\n",
      "----------------------\n",
      "Assembling the systems\n",
      "----------------------\n",
      "Order DSSB: ligand-protein-ligand-other-water\n",
      "--- Assembling structures: lysozyme_benzene ---\n",
      "--- Assembling topologies: lysozyme_benzene ---\n",
      "----------------\n",
      "Box, water, ions\n",
      "----------------\n"
     ]
    }
   ],
   "source": [
    "# initialize the free energy environment object: it will store the main parameters for the calculations\n",
    "fe = AbsoluteDG( ligList=['lysozyme_benzene'], \n",
    "                      apoCase='lysozyme_apo',bDSSB=True )\n",
    "\n",
    "# set the workpath\n",
    "fe.workPath = './lysopath'\n",
    "# set the path to the molecular dynamics parameter files\n",
    "fe.mdpPath = './mdppath'\n",
    "# set the number of replicas (several repetitions of calculation are useful to obtain reliable statistics)\n",
    "fe.replicas = 3\n",
    "# provide the path to the structures and topologies\n",
    "fe.structTopPath = './struct_top'\n",
    "\n",
    "# finally, let's prepare the overall free energy calculation directory structure\n",
    "fe.simTypes = ['em_posre','eq_posre','eq','transitions']\n",
    "\n",
    "fe.prepareFreeEnergyDir( )\n",
    "\n",
    "# assemble the systems \n",
    "fe.assemble_systems()\n",
    "\n",
    "# box/water/ions\n",
    "fe.boxWaterIons()\n",
    "\n",
    "# em_posre\n",
    "#fe.prepare_simulation( simType='em_posre' )\n",
    "fe.JOBsimcpu = 4\n",
    "#fe.JOBmodules = ['shared','owl/intel-mpi-default','cuda91']\n",
    "#fe.JOBsource = ['/etc/profile.d/modules.sh']\n",
    "fe.JOBqueue = 'SLURM'\n",
    "fe.JOBmodules = ['owl/intel-mpi-default','cuda/11.0','hwloc']\n",
    "fe.JOBgmx = '/usr/local/gromacs/2021/2021.2-impi2017-fftw337-gcc93-cuda11.1/bin/mdrun_threads_AVX_256'\n",
    "#fe.prepare_jobscripts( simType='em_posre' )\n",
    "\n",
    "# eq_posre\n",
    "#fe.prepare_simulation( simType='eq_posre', prevSim='em_posre' )\n",
    "fe.JOBsimcpu = 8\n",
    "#fe.prepare_jobscripts( simType='eq_posre' )\n",
    "\n",
    "# eq\n",
    "#fe.prepare_simulation( simType='eq', prevSim='eq_posre' )\n",
    "fe.JOBsimcpu = 20\n",
    "#fe.prepare_jobscripts( simType='eq' )\n",
    "\n",
    "# transitions\n",
    "fe.equilTime = 1080.0 # ps to discard as equilibration\n",
    "#fe.bGenTiTpr = True\n",
    "fe.JOBgmx = '/usr/local/gromacs/2021/2021.2-impi2017-fftw337-gcc93-cuda11.1/bin/mdrun_threads_AVX_256'\n",
    "#fe.prepare_simulation( simType='transitions' )\n",
    "\n",
    "# jobscript for transitions\n",
    "fe.JOBgmx = '/usr/local/gromacs/2021/2021.2-impi2017-fftw337-gcc93-cuda11.1/bin/mdrun_threads_AVX_256'\n",
    "fe.JOBqueue = 'SLURM'\n",
    "fe.JOBmodules = ['owl/intel-mpi-default','cuda/11.0','hwloc']\n",
    "fe.JOBsimcpu = 4\n",
    "#fe.prepare_jobscripts( simType='transitions' )\n",
    "\n",
    "# analysis\n",
    "#fe.run_analysis(ligs=['lysozyme_benzene'] )\n",
    "#fe.analysis_summary()"
   ]
  },
  {
   "cell_type": "code",
   "execution_count": null,
   "metadata": {},
   "outputs": [],
   "source": []
  }
 ],
 "metadata": {
  "kernelspec": {
   "display_name": "Python 3",
   "language": "python",
   "name": "python3"
  },
  "language_info": {
   "codemirror_mode": {
    "name": "ipython",
    "version": 3
   },
   "file_extension": ".py",
   "mimetype": "text/x-python",
   "name": "python",
   "nbconvert_exporter": "python",
   "pygments_lexer": "ipython3",
   "version": "3.8.8"
  }
 },
 "nbformat": 4,
 "nbformat_minor": 2
}
